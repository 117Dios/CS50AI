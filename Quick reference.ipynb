{
 "cells": [
  {
   "cell_type": "markdown",
   "id": "436e1819",
   "metadata": {},
   "source": [
    "# Minimax\n",
    "\n",
    "Esempio con Tic-Tac-Toe (o Tris): board sarà il nostro stato `s`\n",
    "\n",
    "Codice preso dal mio file [tictactoe.py](\\\\00_Search\\\\Projects\\\\tictactoe\\\\tictactoe.py)\n",
    "\n",
    "Per testarlo, eseguire [runner.py](\\\\00_Search\\\\Projects\\\\tictactoe\\\\runner.py)\n",
    "\n",
    "Importa librerie e definizioni"
   ]
  },
  {
   "cell_type": "code",
   "execution_count": 1,
   "id": "8c9a0517",
   "metadata": {},
   "outputs": [],
   "source": [
    "import math\n",
    "import copy\n",
    "\n",
    "X = \"X\"\n",
    "O = \"O\"\n",
    "EMPTY = None"
   ]
  },
  {
   "cell_type": "markdown",
   "id": "e0fdd18b",
   "metadata": {},
   "source": [
    "## $s_{0}$: stato iniziale\n",
    "\n",
    "Caselle vuote"
   ]
  },
  {
   "cell_type": "code",
   "execution_count": 2,
   "id": "127e4a9f",
   "metadata": {},
   "outputs": [],
   "source": [
    "def initial_state():\n",
    "    \"\"\"\n",
    "    Returns starting state of the board.\n",
    "    \"\"\"\n",
    "    return [[EMPTY, EMPTY, EMPTY],\n",
    "            [EMPTY, EMPTY, EMPTY],\n",
    "            [EMPTY, EMPTY, EMPTY]]"
   ]
  },
  {
   "cell_type": "markdown",
   "id": "1557bb8e",
   "metadata": {},
   "source": [
    "## `PLAYER(s)`\n",
    "\n",
    "Restituisce quale giocatore deve agire nello stato `s`\n",
    "\n",
    "Ottenuto contando quante caselle vuote ci sono. Se il numero è pari, gioca X, altrimento O"
   ]
  },
  {
   "cell_type": "code",
   "execution_count": 3,
   "id": "d678b6d1",
   "metadata": {},
   "outputs": [],
   "source": [
    "def player(board):\n",
    "    \"\"\"\n",
    "    Returns player who has the next turn on a board.\n",
    "    \"\"\"\n",
    "    counter = 0\n",
    "    \n",
    "    for list in board:\n",
    "        for cell in list:\n",
    "            if cell != EMPTY:\n",
    "                counter += 1\n",
    "    \n",
    "    if counter % 2 == 0:\n",
    "        return X\n",
    "    else:\n",
    "        return O"
   ]
  },
  {
   "cell_type": "markdown",
   "id": "dfc0435e",
   "metadata": {},
   "source": [
    "## `ACTION(s)`\n",
    "\n",
    "Restituisce le azioni possibili nello stato `s`\n",
    "\n",
    "Se lo stato è terminale, il gioco finisce.\n",
    "\n",
    "Altrimenti, crea un set di azioni. Ricorda che i set hanno componenti uniche.\n",
    "\n",
    "Cicla sulle caselle. Se la casella è vuota, allora è una mossa eseguibile.\n",
    "\n",
    "Restituisci le azioni possibili al chiamante"
   ]
  },
  {
   "cell_type": "code",
   "execution_count": 4,
   "id": "1d6108c0",
   "metadata": {},
   "outputs": [],
   "source": [
    "def actions(board):\n",
    "    \"\"\"\n",
    "    Returns set of all possible actions (i, j) available on the board.\n",
    "    \"\"\"\n",
    "    \n",
    "    if terminal(board):\n",
    "        return \"Game is over\"\n",
    "    \n",
    "    actions = set()\n",
    "    \n",
    "    for i in range(3):\n",
    "        for j in range(3):\n",
    "            if board[i][j] == EMPTY:\n",
    "                actions.add((i, j))\n",
    "\n",
    "    return actions"
   ]
  },
  {
   "cell_type": "markdown",
   "id": "5250ecdc",
   "metadata": {},
   "source": [
    "## `RESULT(s,a)`\n",
    "\n",
    "Restituisce lo stato raggiunto dopo l'azione `a` effettuata nello stato `s`\n",
    "\n",
    "unwrap la tupla \"action\" in 2 variabili, controlla se sono bound.\n",
    "\n",
    "Fai una nuova copia in memoria della board in input. Se non usavo deepcopy ma facevo copied_board = board, avrei agito sugli stessi indirizzi. Faccio la deepcopy così quando minimax controllerà tutti gli stati per la miglior azione, non ci sarà nessuna sovrascrizione\n",
    "\n",
    "Controlla se l'azione agisce su una cella vuota. Se è vuota, piazza il valore del giocatore in quello stato nella posizione della nuova board."
   ]
  },
  {
   "cell_type": "code",
   "execution_count": 5,
   "id": "48f6efd9",
   "metadata": {},
   "outputs": [],
   "source": [
    "def result(board, action):\n",
    "    \"\"\"\n",
    "    Returns the board that results from making move (i, j) on the board.\n",
    "    \"\"\"\n",
    "    \n",
    "    i, j = action\n",
    "    \n",
    "    if i > 2 or i < 0 or j > 2 or j < 0:\n",
    "        raise Exception(\"Out of bounds\")\n",
    "    \n",
    "    copied_board = copy.deepcopy(board)\n",
    "    \n",
    "    if copied_board[i][j] != EMPTY:\n",
    "        raise Exception(\"Invalid Action\")\n",
    "    else:\n",
    "        \n",
    "        copied_board[i][j] = player(board)\n",
    "        \n",
    "        return copied_board"
   ]
  },
  {
   "cell_type": "markdown",
   "id": "0aa2ffca",
   "metadata": {},
   "source": [
    "## `WINNER(s)`\n",
    "\n",
    "Non esplicitato nella spiegazione di minimax. In questo esempio, riconosce chi vince nel gioco.\n",
    "\n",
    "Controlla righe, poi colonne, poi le diagonali."
   ]
  },
  {
   "cell_type": "code",
   "execution_count": 6,
   "id": "17fb892b",
   "metadata": {},
   "outputs": [],
   "source": [
    "def winner(board):\n",
    "    \"\"\"\n",
    "    Returns the winner of the game, if there is one.\n",
    "    \"\"\"\n",
    "    \n",
    "    for row in board:    \n",
    "        if row[0] is not EMPTY and all(cell == row[0] for cell in row):\n",
    "            return row[0]  \n",
    "               \n",
    "    for j in range(3):         \n",
    "        if board[0][j] is not EMPTY and all(row[j] == board[0][j] for row in board):\n",
    "            return board[0][j]\n",
    "        \n",
    "    if board[0][0] is not EMPTY and board[0][0] == board[1][1] == board[2][2]:\n",
    "        return board[0][0]\n",
    "    elif board[2][0] is not EMPTY and board[2][0] == board[1][1] == board[0][2]:\n",
    "        return board[2][0]\n",
    "    else:\n",
    "        return None"
   ]
  },
  {
   "cell_type": "markdown",
   "id": "a058885b",
   "metadata": {},
   "source": [
    "## `TERMINAL(s)`\n",
    "\n",
    "Controlla se lo stato `s` è uno stato finale\n",
    "\n",
    "Se tutte le celle sono piene o la vittoria è stata assegnata a X o O, conferma la fine del gioco."
   ]
  },
  {
   "cell_type": "code",
   "execution_count": 7,
   "id": "f09dcd76",
   "metadata": {},
   "outputs": [],
   "source": [
    "def terminal(board):\n",
    "    \"\"\"\n",
    "    Returns True if game is over, False otherwise.\n",
    "    \"\"\"\n",
    "\n",
    "    win = winner(board)\n",
    "    \n",
    "    if all(cells != EMPTY for row in board for cells in row) or win is not None:\n",
    "        return True\n",
    "    else:\n",
    "        return False"
   ]
  },
  {
   "cell_type": "markdown",
   "id": "e497d244",
   "metadata": {},
   "source": [
    "## `UTILITY(s)`\n",
    "\n",
    "Restituisce il valore numerico finale dallo stato finale `s`"
   ]
  },
  {
   "cell_type": "code",
   "execution_count": 8,
   "id": "d131c551",
   "metadata": {},
   "outputs": [],
   "source": [
    "def utility(board):\n",
    "    \"\"\"\n",
    "    Returns 1 if X has won the game, -1 if O has won, 0 otherwise.\n",
    "    \"\"\"\n",
    "\n",
    "    match winner(board):\n",
    "        case \"X\":\n",
    "            return 1\n",
    "        case \"O\":\n",
    "            return -1\n",
    "        case _:\n",
    "            return 0   "
   ]
  },
  {
   "cell_type": "markdown",
   "id": "f7940492",
   "metadata": {},
   "source": [
    "## Minimax\n",
    "\n",
    "Spiegazione fatta con pseudocodice\n",
    "\n",
    "- Dato uno stato `s`\n",
    "  - `MAX` sceglie l'azione `a` in `ACTION(s)` che produce il valore più alto di `MIN-VALUE(RESULT(s,a))`\n",
    "  - `MIN` sceglie l'azione `a` in `ACTION(s)` che produce il valore più basso di `MAX-VALUE(RESULT(s,a))`\n",
    "\n",
    "`MAX` e `MIN` stanno quindi cercando di capire cosa vuole fare l'altro.\n",
    "\n",
    "Una volta capito come implementare `MIN-VALUE(RESULT(s,a))` e `MAX-VALUE(RESULT(s,a))` ho effettivamente un'implementazione completa di Minimax"
   ]
  },
  {
   "cell_type": "code",
   "execution_count": 9,
   "id": "a159d026",
   "metadata": {},
   "outputs": [],
   "source": [
    "def minimax(board):\n",
    "    \"\"\"\n",
    "    Returns the optimal action for the current player on the board.\n",
    "    \"\"\"\n",
    "    \n",
    "    if terminal(board):\n",
    "        return None    \n",
    "    \n",
    "    if player(board) == X: \n",
    "        return maxvalue(board)[1]\n",
    " \n",
    "    if player(board) == O: \n",
    "        return minvalue(board)[1]"
   ]
  },
  {
   "cell_type": "markdown",
   "id": "33a5ffff",
   "metadata": {},
   "source": [
    "### `MAX-VALUE(s)`\n",
    "\n",
    "La funzione restituisce una tupla (utility, azione)\n",
    "\n",
    "Se lo stato è terminale, restituisci una tupla (utility, niente)\n",
    ": questo perché gli stati precedenti inizieranno a prendere il valore utility dello stato terminale. Non ci saranno azioni da intraprendere allo stato terminale\n",
    "\n",
    "Imposto il valore più basso possibile per iniziare a valuare le utility degli stati.\n",
    "\n",
    "Valuto azione per azione quelle che posso effettuare allo stato attuale.\n",
    "\n",
    "Se con l'azione attuale il mio punteggio migliora, aumenta il punteggio effettivo e scegli questa come azione migliore. Migliora man mano.\n",
    "\n",
    "Chiamando minvalue, essa farà la stessa cosa in senso inverso, e richiamerà maxvalue, effettivamente creando un loop ricorsivo finché entrambi non raggiungono uno stato terminale.\n",
    "\n",
    "ritorna la tupla (valore, azione)\n",
    ": Valore sarà utilizzato durante la valutazione del punteggio temporaneo. L'azione sarà usata come azione consigliata all'IA."
   ]
  },
  {
   "cell_type": "code",
   "execution_count": 10,
   "id": "94f8b8be",
   "metadata": {},
   "outputs": [],
   "source": [
    "def maxvalue(board):\n",
    "    \n",
    "    if terminal(board):\n",
    "        return utility(board), None\n",
    "    \n",
    "    value = -math.inf\n",
    "    \n",
    "    for action in actions(board):\n",
    "        temp_value = max(value, minvalue(result(board, action))[0])\n",
    "        if temp_value > value:\n",
    "            value = temp_value\n",
    "            best_action = action\n",
    "    \n",
    "    return value, best_action"
   ]
  },
  {
   "cell_type": "markdown",
   "id": "e0148be6",
   "metadata": {},
   "source": [
    "### `MIN-VALUE(s)`\n",
    "\n",
    "Discorso analogo e complementare a sopra"
   ]
  },
  {
   "cell_type": "code",
   "execution_count": 11,
   "id": "68a3e4db",
   "metadata": {},
   "outputs": [],
   "source": [
    "def minvalue(board):\n",
    "    \n",
    "    if terminal(board):\n",
    "        return utility(board), None\n",
    "    \n",
    "    value = math.inf\n",
    "    \n",
    "    for action in actions(board):\n",
    "        temp_value = min(value, maxvalue(result(board, action))[0])\n",
    "        if temp_value < value:\n",
    "            value = temp_value\n",
    "            best_action = action\n",
    "    \n",
    "    return value, best_action"
   ]
  }
 ],
 "metadata": {
  "kernelspec": {
   "display_name": ".conda",
   "language": "python",
   "name": "python3"
  },
  "language_info": {
   "codemirror_mode": {
    "name": "ipython",
    "version": 3
   },
   "file_extension": ".py",
   "mimetype": "text/x-python",
   "name": "python",
   "nbconvert_exporter": "python",
   "pygments_lexer": "ipython3",
   "version": "3.12.11"
  }
 },
 "nbformat": 4,
 "nbformat_minor": 5
}
